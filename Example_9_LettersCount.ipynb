{
 "cells": [
  {
   "cell_type": "markdown",
   "metadata": {},
   "source": [
    "# Example_9_LettersCount"
   ]
  },
  {
   "cell_type": "markdown",
   "metadata": {},
   "source": [
    "Task:\n",
    "\n",
    "Count the number of each letter in a sentence.\n",
    "\n",
    "The department you work for undertook a project construction that makes word / text analysis.\n",
    "You are asked to calculate the number of letters or any chars in the sentences entered under this project.\n",
    "\n",
    "Write a Python program that;\n",
    "\n",
    "takes a sentence from the user,\n",
    "\n",
    "counts the number of each letter of the sentence,\n",
    "\n",
    "collects the letters/chars as a key and the counted numbers as a value in a dictionary.\n"
   ]
  },
  {
   "cell_type": "markdown",
   "metadata": {},
   "source": [
    "\n",
    "Sample inputs:  hippo runs to us!\n",
    "\n",
    "Outputs\t\n",
    "{'s': 2, 'r': 1, 't': 1, 'h': 1, 'n': 1, \n",
    "'i': 1, 'u': 2, 'o': 2, 'p': 2, ' ': 3, '!': 1}"
   ]
  },
  {
   "cell_type": "code",
   "execution_count": 1,
   "metadata": {},
   "outputs": [
    {
     "name": "stdout",
     "output_type": "stream",
     "text": [
      "Please enter a sentence hippo runs to us!\n",
      "{'n': 1, 'o': 2, 's': 2, 'r': 1, 'h': 1, 'u': 2, 't': 1, ' ': 3, 'i': 1, '!': 1, 'p': 2}\n"
     ]
    }
   ],
   "source": [
    "sentence = input(\"Please enter a sentence \")\n",
    "list_sentence = set(sentence)\n",
    "new_dic ={}\n",
    "\n",
    "for i in list_sentence:\n",
    "    i_count = sentence.count(i)\n",
    "    new_dic.update({i:i_count})\n",
    "\n",
    "print(new_dic)"
   ]
  },
  {
   "cell_type": "code",
   "execution_count": null,
   "metadata": {},
   "outputs": [],
   "source": []
  }
 ],
 "metadata": {
  "kernelspec": {
   "display_name": "Python 3",
   "language": "python",
   "name": "python3"
  },
  "language_info": {
   "codemirror_mode": {
    "name": "ipython",
    "version": 3
   },
   "file_extension": ".py",
   "mimetype": "text/x-python",
   "name": "python",
   "nbconvert_exporter": "python",
   "pygments_lexer": "ipython3",
   "version": "3.7.1"
  }
 },
 "nbformat": 4,
 "nbformat_minor": 2
}
