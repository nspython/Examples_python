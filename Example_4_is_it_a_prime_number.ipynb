{
 "cells": [
  {
   "attachments": {},
   "cell_type": "markdown",
   "metadata": {},
   "source": [
    "# Example_4_is_it_a_prime_number\n",
    "\n",
    "•\tTask : Write a program that takes a number from the user and prints the result to check if it is a prime number.\n",
    " \n",
    "The examples of the desired output are as follows :\n",
    "\n",
    "input →  19 ⇉ output : 19 is a prime number\n",
    "\n",
    "input →  10 ⇉ output : 10 is not a prime number\n"
   ]
  },
  {
   "cell_type": "code",
   "execution_count": 1,
   "metadata": {},
   "outputs": [
    {
     "name": "stdout",
     "output_type": "stream",
     "text": [
      "Please enter the number greater than 1: 65537\n",
      "65537 is a prime number\n"
     ]
    }
   ],
   "source": [
    "number = int(input(\"Please enter the number greater than 1: \"))\n",
    "num_list = [2, 3, 5, 7]\n",
    "\n",
    "if number in num_list:\n",
    "    print(number, \"is a prime number\")\n",
    "elif (number%2== 0) or (number%3== 0) or (number%5== 0) or (number%7 == 0):\n",
    "    print(number, \"is not prime number\")\n",
    "elif number % number==0:\n",
    "    print(number, \"is a prime number\")\n"
   ]
  },
  {
   "cell_type": "code",
   "execution_count": null,
   "metadata": {},
   "outputs": [],
   "source": []
  }
 ],
 "metadata": {
  "kernelspec": {
   "display_name": "Python 3",
   "language": "python",
   "name": "python3"
  },
  "language_info": {
   "codemirror_mode": {
    "name": "ipython",
    "version": 3
   },
   "file_extension": ".py",
   "mimetype": "text/x-python",
   "name": "python",
   "nbconvert_exporter": "python",
   "pygments_lexer": "ipython3",
   "version": "3.7.1"
  }
 },
 "nbformat": 4,
 "nbformat_minor": 2
}
