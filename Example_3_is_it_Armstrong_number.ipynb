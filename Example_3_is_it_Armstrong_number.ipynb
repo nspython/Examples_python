{
 "cells": [
  {
   "attachments": {},
   "cell_type": "markdown",
   "metadata": {},
   "source": [
    "# Example_3_is_it_Armstrong_number\n",
    "\n",
    "Task:\n",
    "Find out if a given number is an \"Armstrong Number\".\n",
    "\n",
    "\n",
    "•\tAn n-digit number that is the sum of the nth powers of its digits is called an n-Armstrong number. Examples :\n",
    "1.\t371 = 33 + 73 + 13;\n",
    "2.\t9474 = 94 + 44 + 74 + 44;\n",
    "3.\t93084 = 95 + 35 + 05 + 85 + 45.\n",
    "\n",
    "\n",
    "•\tWrite a Python program that;\n",
    "1.\ttakes a positive integer number from the user,\n",
    "2.\tchecks the entered number if it is Armstrong,\n",
    "3.\tconsider the negative, float and any entries other than numeric values then display a warning message to the user.\n"
   ]
  },
  {
   "cell_type": "code",
   "execution_count": 1,
   "metadata": {},
   "outputs": [
    {
     "name": "stdout",
     "output_type": "stream",
     "text": [
      "Please enter positive integer number: 407\n",
      "407 is an Armstrong number\n"
     ]
    }
   ],
   "source": [
    "number = input(\"Please enter positive integer number: \")\n",
    "\n",
    "x = len(number)\n",
    "i = 0 \n",
    "result = 0\n",
    "\n",
    "\n",
    "if not number.isdigit():\n",
    "    print(\"It is an invalid entry. Don't use non-numeric, float or negative values!\")\n",
    "elif int(number)>0:\n",
    "    while i < x:\n",
    "        result += int(number[i])**x\n",
    "        i +=1\n",
    "    if int(number) == result:\n",
    "        print(f\"{number} is an Armstrong number\")\n",
    "    else:\n",
    "        print(f\"{number} is not an Armstrong number\")\n"
   ]
  },
  {
   "cell_type": "code",
   "execution_count": null,
   "metadata": {},
   "outputs": [],
   "source": []
  }
 ],
 "metadata": {
  "kernelspec": {
   "display_name": "Python 3",
   "language": "python",
   "name": "python3"
  },
  "language_info": {
   "codemirror_mode": {
    "name": "ipython",
    "version": 3
   },
   "file_extension": ".py",
   "mimetype": "text/x-python",
   "name": "python",
   "nbconvert_exporter": "python",
   "pygments_lexer": "ipython3",
   "version": "3.7.1"
  }
 },
 "nbformat": 4,
 "nbformat_minor": 2
}
