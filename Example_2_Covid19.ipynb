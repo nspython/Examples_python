{
 "cells": [
  {
   "cell_type": "markdown",
   "metadata": {},
   "source": [
    "# Example_2_Covid19\n",
    "\n",
    "Task : Estimating the risk of death from coronavirus. Write a program that;\n",
    "•\tTakes \"Yes\" or \"No\" from the user as an answer to the following questions :\n",
    "\n",
    "o\tAre you a cigarette addict older than 75 years old? Variable → age\n",
    "\n",
    "o\tDo you have a severe chronic disease? Variable → chronic\n",
    "\n",
    "o\tIs your immune system too weak? Variable → immune\n",
    "\n",
    "Set a logical algorithm using boolean logic operators (and/or) and use if-statements with the given variables in order to print out us a message : \"You are in risky group\"(if True ) or \"You are not in risky group\" (if False).\n",
    " \n",
    "age =  # can be assigned only True/False\n",
    "\n",
    "chronic =  # can be assigned only True/False\n",
    "\n",
    "immune =  # can be assigned only True/False\n",
    "\n",
    "risk = ?\n"
   ]
  },
  {
   "cell_type": "code",
   "execution_count": 2,
   "metadata": {},
   "outputs": [
    {
     "name": "stdout",
     "output_type": "stream",
     "text": [
      "Are you a cigarette addict older than 75 years old?: (Yes/No)yes\n",
      "Do you have a severe chronic disease? : (Yes/No)no\n",
      "Is your immune system too weak? : (Yes/No)yes\n",
      "You are in risky group\n"
     ]
    }
   ],
   "source": [
    "age = input(\"Are you a cigarette addict older than 75 years old?: (Yes/No)\").title().strip()\n",
    "chronic = input(\"Do you have a severe chronic disease? : (Yes/No)\").title().strip()\n",
    "immune = input(\"Is your immune system too weak? : (Yes/No)\").title().strip()\n",
    "risk = age or chronic or immune\n",
    "if risk == \"Yes\":\n",
    "    print(\"You are in risky group\")\n",
    "else:\n",
    "    print(\"You are not in risky group\")\n"
   ]
  },
  {
   "cell_type": "code",
   "execution_count": null,
   "metadata": {},
   "outputs": [],
   "source": []
  }
 ],
 "metadata": {
  "kernelspec": {
   "display_name": "Python 3",
   "language": "python",
   "name": "python3"
  },
  "language_info": {
   "codemirror_mode": {
    "name": "ipython",
    "version": 3
   },
   "file_extension": ".py",
   "mimetype": "text/x-python",
   "name": "python",
   "nbconvert_exporter": "python",
   "pygments_lexer": "ipython3",
   "version": "3.7.1"
  }
 },
 "nbformat": 4,
 "nbformat_minor": 2
}
