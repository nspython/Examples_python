{
 "cells": [
  {
   "cell_type": "markdown",
   "metadata": {},
   "source": [
    "# Example_1_if_statement\n",
    "\n",
    "Task : Let's say you left a message in the past that prints a password you need. To see the password you wrote, you need to enter your name and the program should recognize you.\n",
    "\n",
    "Write a program that \n",
    "\n",
    "1.\tTakes the first name from the user and compares it to yours,\n",
    "2.\tThen if the name the user entered is the same as yours, print out such as : \"Hello, Joseph! The password is : W@12\",\n",
    "3.\tIf the name the user entered is not the same as yours, print out such as : \"Hello, Amina! See you later.\"\n"
   ]
  },
  {
   "cell_type": "code",
   "execution_count": 2,
   "metadata": {},
   "outputs": [
    {
     "name": "stdout",
     "output_type": "stream",
     "text": [
      "What is your name?: jOsepH\n",
      "Hello, Joseph! The password is : W@12\n"
     ]
    }
   ],
   "source": [
    "name = input(\"What is your name?: \").title().strip()\n",
    "\n",
    "if name == \"Joseph\":\n",
    "    print(\"Hello, {name1}! The password is : W@12\". format(name1 =name))\n",
    "else:\n",
    "    print(\"Hello, {name1}! See you later\". format(name1 = name))\n"
   ]
  },
  {
   "cell_type": "code",
   "execution_count": null,
   "metadata": {},
   "outputs": [],
   "source": []
  }
 ],
 "metadata": {
  "kernelspec": {
   "display_name": "Python 3",
   "language": "python",
   "name": "python3"
  },
  "language_info": {
   "codemirror_mode": {
    "name": "ipython",
    "version": 3
   },
   "file_extension": ".py",
   "mimetype": "text/x-python",
   "name": "python",
   "nbconvert_exporter": "python",
   "pygments_lexer": "ipython3",
   "version": "3.7.1"
  }
 },
 "nbformat": 4,
 "nbformat_minor": 2
}
